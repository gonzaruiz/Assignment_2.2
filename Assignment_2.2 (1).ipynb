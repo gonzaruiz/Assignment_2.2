{
 "cells": [
  {
   "cell_type": "code",
   "execution_count": 20,
   "metadata": {},
   "outputs": [
    {
     "name": "stdout",
     "output_type": "stream",
     "text": [
      "*\n",
      "***\n",
      "****\n",
      "*****\n",
      "****\n",
      "***\n",
      "**\n",
      "*\n"
     ]
    }
   ],
   "source": [
    "a = 3\n",
    "b = 3\n",
    "c = 4\n",
    "d = 5\n",
    "e = 6\n",
    "f = 7\n",
    "\n",
    "if a==b:\n",
    "    print('*')\n",
    "\n",
    "if a<b:\n",
    "    print('**')\n",
    "    \n",
    "if a<d:\n",
    "    print('***')\n",
    "\n",
    "if a<e:\n",
    "    print('****')\n",
    "    \n",
    "if a<f:\n",
    "    print('*****')\n",
    "\n",
    "if a<c:\n",
    "    print('****')\n",
    "    \n",
    "if a<d:\n",
    "    print('***')   \n",
    "    \n",
    "if a<c:\n",
    "    print('**')\n",
    "    \n",
    "if a==b:\n",
    "    print('*')\n",
    "    \n",
    "    \n",
    "    "
   ]
  },
  {
   "cell_type": "code",
   "execution_count": null,
   "metadata": {},
   "outputs": [],
   "source": []
  }
 ],
 "metadata": {
  "kernelspec": {
   "display_name": "Python 3",
   "language": "python",
   "name": "python3"
  },
  "language_info": {
   "codemirror_mode": {
    "name": "ipython",
    "version": 3
   },
   "file_extension": ".py",
   "mimetype": "text/x-python",
   "name": "python",
   "nbconvert_exporter": "python",
   "pygments_lexer": "ipython3",
   "version": "3.6.4"
  }
 },
 "nbformat": 4,
 "nbformat_minor": 2
}
